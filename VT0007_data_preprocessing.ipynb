{
 "cells": [
  {
   "cell_type": "markdown",
   "metadata": {
    "colab_type": "text",
    "id": "view-in-github"
   },
   "source": [
    "<a href=\"https://colab.research.google.com/github/seamusrobertmurphy/VT0007-deforestation-map/blob/main/VT0007_data_preprocessing.ipynb\" target=\"_parent\"><img src=\"https://colab.research.google.com/assets/colab-badge.svg\" alt=\"Open In Colab\"/></a>"
   ]
  },
  {
   "cell_type": "markdown",
   "metadata": {
    "id": "Zs-XkMfnTPG8"
   },
   "source": [
    "### Environment setup"
   ]
  },
  {
   "cell_type": "code",
   "execution_count": null,
   "metadata": {
    "collapsed": true,
    "id": "8MIGUKfTznMD"
   },
   "outputs": [],
   "source": [
    "!pip install leafmap geemap==0.16.4 geopandas numpy scikit-learn\n",
    "#import geemap.tools as geemap_tools\n",
    "import ee, json, geemap, ipyleaflet, os, numpy\n",
    "from google.colab import drive\n",
    "from google.colab import files\n",
    "from sklearn.gaussian_process import GaussianProcessRegressor\n",
    "from sklearn.gaussian_process.kernels import RBF, ConstantKernel as C\n",
    "!drive.mount('/content/drive')"
   ]
  },
  {
   "cell_type": "markdown",
   "metadata": {
    "id": "myJzbBrc2NH4"
   },
   "source": [
    "### Activate Earth Engine"
   ]
  },
  {
   "cell_type": "code",
   "execution_count": null,
   "metadata": {
    "collapsed": true,
    "id": "KJyaBbBmWoEj"
   },
   "outputs": [],
   "source": [
    "!earthengine authenticate\n",
    "#!ee.Authenticate() # deprecated in certain Colab environments\n",
    "ee.Initialize(project = \"murphys-deforisk\")"
   ]
  },
  {
   "cell_type": "markdown",
   "metadata": {
    "id": "a8jVqmt2TJch"
   },
   "source": [
    "### Jurisidictional boundaries"
   ]
  },
  {
   "cell_type": "code",
   "execution_count": 10,
   "metadata": {
    "colab": {
     "base_uri": "https://localhost:8080/"
    },
    "id": "GgtmLpgrakJa",
    "outputId": "004316be-a7ce-459b-b0ff-361c08a3add2"
   },
   "outputs": [
    {
     "data": {
      "text/plain": [
       "['Barima Waini (region N°1)',\n",
       " 'Cuyuni/mazaruni (region N°7)',\n",
       " 'Demerara Mahaica (region N°4)',\n",
       " 'East Berbice/corentyne (region N°6)',\n",
       " 'Essequibo Islands/west Demerara (region N°3)',\n",
       " 'Mahaica Berbice (region N°5)',\n",
       " 'Pomeroon/supenaam (region N°2',\n",
       " 'Potaro/siparuni (region N°8)',\n",
       " 'Upper Demerara/berbice (region N°10)',\n",
       " 'Upper Takutu/upper Essequibo (region N°9)']"
      ]
     },
     "execution_count": 10,
     "metadata": {},
     "output_type": "execute_result"
    }
   ],
   "source": [
    "country = ee.FeatureCollection('FAO/GAUL/2015/level1').filter(\n",
    "    ee.Filter.equals(\"ADM0_NAME\", \"Guyana\"))\n",
    "states_all = country.aggregate_array('ADM1_NAME').distinct().getInfo()\n",
    "states_all"
   ]
  },
  {
   "cell_type": "code",
   "execution_count": 34,
   "metadata": {
    "colab": {
     "base_uri": "https://localhost:8080/",
     "height": 621,
     "referenced_widgets": [
      "00780f4db083416f92b30b1618283bcc",
      "c4bcaa9da5184c5b883aa13864391319",
      "f2142a29f2cd490ca6caba9b889f3522",
      "e83dae2e1cb54803835d9e7cca0a875b",
      "ba2aab5727a74954ada53de21ded0993",
      "d69c5ffd623948f8b1ac5481ca9f6f6f",
      "d8180df0f61e4e789335ac7d7609c3d1",
      "05aab5eb1b5f4cba854fe86d20940cfc",
      "da85ace1949e4f23997ec427e185f274",
      "2b4bd755df3d43b39847a36ee7d417bb",
      "91b7919119f84c76a79c28cbbd594ced",
      "5a9188ed2f97432bba8c9f3d5d4bdeab",
      "12c546518aa94e5fa099055be5c82522",
      "1990bca96634429eb197f67ba03d6b37",
      "4f1cb82971d949059e51e8d2b899eb9d",
      "0cc0c93b2d8d48bcbeb5631862a437bc",
      "bd36e610aecf41a08e477d4db1e76358",
      "f95d4a15879e4e04a7ffe7211ee40322",
      "57c36916f9054c29a4242db1500a8055",
      "fb6a249bb1d34d7cb99797f13f0a56dd",
      "ce654c9bb0cb4179a00926d0875f6cf2",
      "60a46fb4c6c74e0db9cc000a60a84886",
      "040da0a0b621471e9aaab7661c03c2e2",
      "2e4b455b6e7b4e9a99afa4d29d64b5b0",
      "a6dac4ebde8b460da9643b6c2f57b340",
      "f3c91fd887bf40e6bf2511192d4c1fb9",
      "787a83e0789247ec86001191e4ef8587",
      "f8e1c926fd944d32a68a1165163596f9",
      "6a6604f57b334cd2bded38c9bc0ab54e",
      "eeb916c489ed493ea8320af991b362a7",
      "2be797c8627a4f8fabcf241bc7e3a143",
      "e9b6dbac12584c36ae9fd69810d8c162",
      "faeba0f9208e466c9aeb27be94332d59",
      "2ef8d71e8b0e46e687610a5cb041de23"
     ]
    },
    "id": "6K7u7Ox57ZQb",
    "outputId": "3b69abc4-8db0-4d2d-e853-44eca4626ef5"
   },
   "outputs": [
    {
     "data": {
      "application/vnd.jupyter.widget-view+json": {
       "model_id": "00780f4db083416f92b30b1618283bcc",
       "version_major": 2,
       "version_minor": 0
      },
      "text/plain": [
       "Map(center=[4.792974158655901, -58.97213873238909], controls=(WidgetControl(options=['position', 'transparent_…"
      ]
     },
     "metadata": {
      "application/vnd.jupyter.widget-view+json": {
       "colab": {
        "custom_widget_manager": {
         "url": "https://ssl.gstatic.com/colaboratory-static/widgets/colab-cdn-widget-manager/2b70e893a8ba7c0f/manager.min.js"
        }
       }
      }
     },
     "output_type": "display_data"
    }
   ],
   "source": [
    "state =  ee.FeatureCollection('FAO/GAUL/2015/level1').filter(\n",
    "    ee.Filter.equals('ADM1_NAME', \"Barima Waini (region N°1)\"))\n",
    "red = {\"color\": \"red\", \"width\": 2, \"lineType\": \"solid\", \"fillColor\": \"00000000\"}\n",
    "white = {\"color\": \"white\", \"width\": 1, \"lineType\": \"solid\", \"fillColor\": \"00000000\"}\n",
    "country_label = ee.FeatureCollection([ee.Feature(\n",
    "    country.geometry().centroid(), {'country_name': country.first().get(\"ADM0_NAME\").getInfo()})])\n",
    "\n",
    "Map = geemap.Map()\n",
    "Map.centerObject(country, 6)\n",
    "Map.add_basemap('Esri.WorldImagery')\n",
    "Map.addLayer(country.style(**white), {}, \"Guyana\")\n",
    "Map.addLayer(state.style(**red), {}, \"Barima Waini (region N°1)\")\n",
    "Map.add_labels(state,\"ADM1_NAME\",font_size=\"9pt\",font_color=\"red\",font_family=\"arial\",font_weight=\"bold\",)\n",
    "Map.add_labels(country_label, \"country_name\", font_size=\"12pt\", font_color=\"white\", font_family=\"arial\",)\n",
    "Map"
   ]
  },
  {
   "cell_type": "markdown",
   "metadata": {
    "id": "bZw_9pqzTCXk"
   },
   "source": [
    "### Derive mask & filter\n",
    "\n",
    "The ImageCollection Landsat 8 Surface Reflectance Tier 1 have been atmospherically corrected using LaSRC and includes a cloud, shadow, water and snow mask produced using CFMASK, as well as a per-pixel saturation mask."
   ]
  },
  {
   "cell_type": "code",
   "execution_count": 41,
   "metadata": {
    "colab": {
     "base_uri": "https://localhost:8080/",
     "height": 621,
     "referenced_widgets": [
      "2da63189034b462b84030ae48d68599f",
      "526da959971a43a893c8bce2543acdd0",
      "e1ebed7ea89b4d5c89942899c1f7c71e",
      "f4e10679e0a34a1da94b17d10d8f95a7",
      "4781eee3fda646028227e2d3b754e172",
      "cdf7deb658e443db8ba4236a1de6b5b9",
      "7fcd2aae531e4e658183786d281ca5fb",
      "65e35df04d2f4e4d8969e4662cd26d79",
      "4af34c2ce50744f28600c252c767f9e2",
      "b2cb865d8e39475b9e1de8e3b55f439f",
      "e5e87aa5ddf640d3b3f3b7c2420159c9",
      "dd69304af83947d39f6ce9042d216738",
      "374f15d74b704cf5aac79b2f88e2157b",
      "12c546518aa94e5fa099055be5c82522",
      "d57e3d168e0e4116ad614b370ffda78f",
      "dd88aa7ef08a40729d139b2f85b94299",
      "a82a6d6b73f54ab1b3000402c751f9d4",
      "4ddb473903cd417396b1e4145c7322f7",
      "9bc3ffcb004142e1ad26d0829aa2dc75",
      "267c8c5187c64d49bb435e39f0ecc631",
      "91f9ab4d9e37406d90f0298eff7c7032",
      "6374ffec5866431a8e96b6c6f9c3c7ea",
      "54ff1f81bce04e8ebf9b79cca61f01f9",
      "7d6378e1ca6a4aa79b888b504d64e0b4",
      "d45d95888e1d4d498885a04ea467d539",
      "ab0582398aef4f44bf380ff1d13aff6f",
      "276625aa7b0241faaaaa88716071dd3b",
      "2d68b8cc1f954786b8246be5bc62217d",
      "9287e0f3adb94bacb4f9a57113eddf1c"
     ]
    },
    "id": "Qa1K0i17v8ea",
    "outputId": "1d5a7294-93c3-425b-a79f-6577cf381a1d"
   },
   "outputs": [
    {
     "data": {
      "application/vnd.jupyter.widget-view+json": {
       "model_id": "2da63189034b462b84030ae48d68599f",
       "version_major": 2,
       "version_minor": 0
      },
      "text/plain": [
       "Map(center=[7.63219842740881, -59.75025883718175], controls=(WidgetControl(options=['position', 'transparent_b…"
      ]
     },
     "metadata": {
      "application/vnd.jupyter.widget-view+json": {
       "colab": {
        "custom_widget_manager": {
         "url": "https://ssl.gstatic.com/colaboratory-static/widgets/colab-cdn-widget-manager/2b70e893a8ba7c0f/manager.min.js"
        }
       }
      }
     },
     "output_type": "display_data"
    }
   ],
   "source": [
    "# derive masking, scaling, and ndvi function\n",
    "def maskL8sr(image):\n",
    "    qaMask = image.select('QA_PIXEL').bitwiseAnd(int('11111', 2)).eq(0)\n",
    "    saturationMask = image.select('QA_RADSAT').eq(0)\n",
    "    opticalBands = image.select('SR_B.').multiply(0.0000275).add(-0.2)\n",
    "    thermalBands = image.select('ST_B.*').multiply(0.00341802).add(149.0)\n",
    "    ndvi = image.normalizedDifference(['SR_B5', 'SR_B4']).rename('NDVI').toFloat()\n",
    "    image = image.addBands(opticalBands, None, True) \\\n",
    "                 .addBands(thermalBands, None, True) \\\n",
    "                 .addBands(ndvi)\n",
    "    return image.select(\n",
    "        ['SR_B2', 'SR_B3', 'SR_B4', 'SR_B5', 'SR_B6', 'SR_B7', 'NDVI'],\n",
    "        ['BLUE', 'GREEN', 'RED', 'NIR08', 'SWIR16', 'SWIR22', 'NDVI']\n",
    "    ).updateMask(qaMask).updateMask(saturationMask)\n",
    "\n",
    "# create collections for 2014 and 2024\n",
    "collection_2014 = ee.ImageCollection('LANDSAT/LC08/C02/T1_L2') \\\n",
    "                    .filterDate('2014-01-01', '2014-12-31') \\\n",
    "                    .filterBounds(state) \\\n",
    "                    .map(maskL8sr)\n",
    "\n",
    "collection_2024 = ee.ImageCollection('LANDSAT/LC08/C02/T1_L2') \\\n",
    "                    .filterDate('2024-01-01', '2024-12-31') \\\n",
    "                    .filterBounds(state) \\\n",
    "                    .map(maskL8sr)\n",
    "\n",
    "# median composites for 2014 and 2024\n",
    "composite_2014 = collection_2014.select(['BLUE', 'GREEN', 'RED', 'NIR08', 'SWIR16', 'SWIR22', 'NDVI']).median().clip(state).toFloat()\n",
    "composite_2024 = collection_2024.select(['BLUE', 'GREEN', 'RED', 'NIR08', 'SWIR16', 'SWIR22', 'NDVI']).median().clip(state).toFloat()\n",
    "\n",
    "\n",
    "# visualization\n",
    "ndviVis = {'min': 0.2, 'max': 0.8, 'palette': ['red', 'yellow', 'green']}\n",
    "Map = geemap.Map()\n",
    "Map.centerObject(state, 8)\n",
    "Map.addLayer(composite_2014.select('NDVI'), ndviVis, 'NDVI 2014')\n",
    "Map.addLayer(composite_2024.select('NDVI'), ndviVis, 'NDVI 2024')\n",
    "Map.addLayer(state, {}, 'Area of Interest')\n",
    "Map.addLayerControl()\n",
    "Map"
   ]
  },
  {
   "cell_type": "markdown",
   "metadata": {},
   "source": [
    "### Confirm naming & export"
   ]
  },
  {
   "cell_type": "code",
   "execution_count": 65,
   "metadata": {
    "colab": {
     "base_uri": "https://localhost:8080/"
    },
    "id": "fHa1ZiPpdIil",
    "outputId": "9d8bbb47-15cc-47fd-a32d-cf326b2d39bb"
   },
   "outputs": [
    {
     "name": "stdout",
     "output_type": "stream",
     "text": [
      "Scene ID for collection_2014: LC08_231055_20140111\n",
      "Scene ID for collection_2024: LC08_231055_20240107\n",
      "Band names: ['BLUE', 'GREEN', 'RED', 'NIR08', 'SWIR16', 'SWIR22', 'NDVI']\n",
      "Band names: ['BLUE', 'GREEN', 'RED', 'NIR08', 'SWIR16', 'SWIR22', 'NDVI']\n"
     ]
    }
   ],
   "source": [
    "# confirm dates, scene IDs, band names of images\n",
    "firstImage_2014 = collection_2014.first()\n",
    "sceneId_2014 = firstImage_2014.get('system:index').getInfo()\n",
    "print(f\"Scene ID for collection_2014: {sceneId_2014}\")\n",
    "\n",
    "firstImage_2024 = collection_2024.first()\n",
    "sceneId_2024 = firstImage_2024.get('system:index').getInfo()\n",
    "print(f\"Scene ID for collection_2024: {sceneId_2024}\")\n",
    "\n",
    "bandNames_2014 = composite_2014.bandNames().getInfo()\n",
    "print(f\"Band names: {bandNames_2014}\")\n",
    "\n",
    "bandNames_2024 = composite_2024.bandNames().getInfo()\n",
    "print(f\"Band names: {bandNames_2024}\")"
   ]
  },
  {
   "cell_type": "code",
   "execution_count": 70,
   "metadata": {
    "colab": {
     "base_uri": "https://localhost:8080/"
    },
    "collapsed": true,
    "id": "IaBYwCWDLlsO",
    "outputId": "e25569ce-85f6-44b9-9b6e-6b4328cfcbb3"
   },
   "outputs": [
    {
     "name": "stdout",
     "output_type": "stream",
     "text": [
      "Exporting 2014 image for band BLUE. Task ID: 6EA3PHOOJSSPSK62ZG73RM6G\n",
      "Exporting 2014 image for band GREEN. Task ID: GCFMAH3UGO44UC55YLVZLW6C\n",
      "Exporting 2014 image for band RED. Task ID: UPO5UJ4T3CLW6C6BFKISD3DF\n",
      "Exporting 2014 image for band NIR08. Task ID: VSW7NGIQCALO7OD72OVMRVYQ\n",
      "Exporting 2014 image for band SWIR16. Task ID: C5QAPB24TKTAS7EG6MIHC3GF\n",
      "Exporting 2014 image for band SWIR22. Task ID: SUDF3XE45KNXJYIHUV4SCROO\n",
      "Exporting 2014 image for band NDVI. Task ID: R2YUC2SMNLERTO2BPLCS74WE\n",
      "Exporting 2024 image for band BLUE. Task ID: VQ5B74MLOJ6ZKLN3BOTIXAAC\n",
      "Exporting 2024 image for band GREEN. Task ID: Y4JZGRXOAEAIIXOVR5I7ID3W\n",
      "Exporting 2024 image for band RED. Task ID: B676JUQXPFLDD2ICYNLD54IC\n",
      "Exporting 2024 image for band NIR08. Task ID: JJVTBGXY7TAHQL3IUU4ZFWCC\n",
      "Exporting 2024 image for band SWIR16. Task ID: 574U4KUEBBERV6DJDFITLTYW\n",
      "Exporting 2024 image for band SWIR22. Task ID: C7HFJWINW7OXEYYTOPTET3LB\n",
      "Exporting 2024 image for band NDVI. Task ID: 3JK3BNYWQURBZ4GCUXG4YBXE\n"
     ]
    }
   ],
   "source": [
    "from datetime import datetime\n",
    "\n",
    "# extract pathrow and date from scene ID\n",
    "def get_pathrow_date(image_collection):\n",
    "  first_image = image_collection.first()\n",
    "  scene_id = first_image.get('system:index').getInfo()\n",
    "  parts = scene_id.split('_')\n",
    "  pathrow = parts[1]\n",
    "  date_str = parts[2]\n",
    "  date_obj = datetime.strptime(date_str, '%Y%m%d')\n",
    "  date = date_obj.strftime('%Y-%m-%d')\n",
    "  return pathrow, date\n",
    "\n",
    "# define export parameters\n",
    "def define_export_params(image, pathrow, date, band_name):\n",
    "  return {\n",
    "    'image': image.select(band_name),\n",
    "    'description': f'composite_{date}_{band_name}_export',\n",
    "    'bucket': 'deforisk_bucket_1',\n",
    "    'fileNamePrefix': f'LANDSAT_TM-ETM-OLI_{pathrow}_{band_name}_{date}',\n",
    "    'scale': 30,\n",
    "    'region': state.geometry(),\n",
    "    'maxPixels': 1e13,\n",
    "    'fileFormat': 'GeoTIFF',\n",
    "    'formatOptions': {'cloudOptimized': True}\n",
    "  }\n",
    "\n",
    "# get pathrow and date for each collection\n",
    "pathrow_2014, date_2014 = get_pathrow_date(collection_2014)\n",
    "pathrow_2024, date_2024 = get_pathrow_date(collection_2024)\n",
    "\n",
    "# get band names\n",
    "bandNames_2014 = composite_2014.bandNames().getInfo()\n",
    "bandNames_2024 = composite_2024.bandNames().getInfo()\n",
    "\n",
    "# export to cloud bucket\n",
    "for band_name in bandNames_2014:\n",
    "    export_params_2014 = define_export_params(composite_2014, pathrow_2014, date_2014, band_name)\n",
    "    task_2014 = ee.batch.Export.image.toCloudStorage(**export_params_2014)\n",
    "    task_2014.start()\n",
    "    print(f\"Exporting 2014 image for band {band_name}. Task ID: {task_2014.id}\")\n",
    "\n",
    "for band_name in bandNames_2024:\n",
    "    export_params_2024 = define_export_params(composite_2024, pathrow_2024, date_2024, band_name)\n",
    "    task_2024 = ee.batch.Export.image.toCloudStorage(**export_params_2024)\n",
    "    task_2024.start()\n",
    "    print(f\"Exporting 2024 image for band {band_name}. Task ID: {task_2024.id}\")\n",
    "\n",
    "# export full stack to drive\n",
    "#export_params_drive = {\n",
    "#    'image': composite_2014,\n",
    "#    'description': 'export_2014',\n",
    "#    'folder': 'VT0007-deforestation-map',\n",
    "#    'fileNamePrefix': 'LANDSAT-C2-L2_OLI_TILE_BAND_2014-11-11',\n",
    "#    'scale': 30,\n",
    "#    'region': state.geometry(),\n",
    "#    'maxPixels': 1e13,\n",
    "#    'fileFormat': 'GeoTIFF',\n",
    "#    'formatOptions': {'cloudOptimized': True}\n",
    "#}\n",
    "\n",
    "#task = ee.batch.Export.image.toDrive(**export_params_drive)\n",
    "#task.start()\n",
    "#print(f\"Exporting image. Task ID: {task.id}\")"
   ]
  }
 ],
 "metadata": {
  "colab": {
   "authorship_tag": "ABX9TyObznfX2vuvryJY+J0m3A6L",
   "include_colab_link": true,
   "mount_file_id": "1YAVDDVDRLyer6iszu1fNGHscLS0vgXaQ",
   "provenance": []
  },
  "kernelspec": {
   "display_name": "Python 3",
   "name": "python3"
  },
  "language_info": {
   "name": "python"
  },
  "widgets": {
   "application/vnd.jupyter.widget-state+json": {
    "00780f4db083416f92b30b1618283bcc": {
     "model_module": "jupyter-leaflet",
     "model_module_version": "^0.19",
     "model_name": "LeafletMapModel",
     "state": {
      "_dom_classes": [],
      "_model_module": "jupyter-leaflet",
      "_model_module_version": "^0.19",
      "_model_name": "LeafletMapModel",
      "_view_count": null,
      "_view_module": "jupyter-leaflet",
      "_view_module_version": "^0.19",
      "_view_name": "LeafletMapView",
      "bottom": 557,
      "bounce_at_zoom_limits": true,
      "box_zoom": true,
      "center": [
       66.37275500247458,
       144.84375000000003
      ],
      "close_popup_on_click": true,
      "controls": [
       "IPY_MODEL_c4bcaa9da5184c5b883aa13864391319",
       "IPY_MODEL_f2142a29f2cd490ca6caba9b889f3522",
       "IPY_MODEL_e83dae2e1cb54803835d9e7cca0a875b",
       "IPY_MODEL_ba2aab5727a74954ada53de21ded0993",
       "IPY_MODEL_d69c5ffd623948f8b1ac5481ca9f6f6f",
       "IPY_MODEL_d8180df0f61e4e789335ac7d7609c3d1",
       "IPY_MODEL_05aab5eb1b5f4cba854fe86d20940cfc",
       "IPY_MODEL_da85ace1949e4f23997ec427e185f274"
      ],
      "crs": {
       "custom": false,
       "name": "EPSG3857"
      },
      "default_style": "IPY_MODEL_2b4bd755df3d43b39847a36ee7d417bb",
      "double_click_zoom": true,
      "dragging": true,
      "dragging_style": "IPY_MODEL_91b7919119f84c76a79c28cbbd594ced",
      "east": 560.7421875000001,
      "fullscreen": false,
      "inertia": true,
      "inertia_deceleration": 3000,
      "inertia_max_speed": 1500,
      "interpolation": "bilinear",
      "keyboard": true,
      "keyboard_pan_offset": 80,
      "keyboard_zoom_offset": 1,
      "layers": [
       "IPY_MODEL_5a9188ed2f97432bba8c9f3d5d4bdeab",
       "IPY_MODEL_12c546518aa94e5fa099055be5c82522",
       "IPY_MODEL_1990bca96634429eb197f67ba03d6b37",
       "IPY_MODEL_4f1cb82971d949059e51e8d2b899eb9d",
       "IPY_MODEL_0cc0c93b2d8d48bcbeb5631862a437bc",
       "IPY_MODEL_bd36e610aecf41a08e477d4db1e76358",
       "IPY_MODEL_f95d4a15879e4e04a7ffe7211ee40322"
      ],
      "layout": "IPY_MODEL_57c36916f9054c29a4242db1500a8055",
      "left": -259,
      "max_zoom": 24,
      "min_zoom": null,
      "modisdate": "2024-12-09",
      "north": 86.19783846972054,
      "options": [
       "bounce_at_zoom_limits",
       "box_zoom",
       "center",
       "close_popup_on_click",
       "double_click_zoom",
       "dragging",
       "fullscreen",
       "inertia",
       "inertia_deceleration",
       "inertia_max_speed",
       "interpolation",
       "keyboard",
       "keyboard_pan_offset",
       "keyboard_zoom_offset",
       "max_zoom",
       "min_zoom",
       "prefer_canvas",
       "scroll_wheel_zoom",
       "tap",
       "tap_tolerance",
       "touch_zoom",
       "world_copy_jump",
       "zoom",
       "zoom_animation_threshold",
       "zoom_delta",
       "zoom_snap"
      ],
      "panes": {},
      "prefer_canvas": false,
      "right": 2107,
      "scroll_wheel_zoom": true,
      "south": -15.623036831528252,
      "style": "IPY_MODEL_2b4bd755df3d43b39847a36ee7d417bb",
      "tap": true,
      "tap_tolerance": 15,
      "top": -43,
      "touch_zoom": true,
      "west": -271.05468750000006,
      "window_url": "https://zdx1biu5zam-496ff2e9c6d22116-0-colab.googleusercontent.com/outputframe.html?vrz=colab_20241206-060108_RC00_703433784",
      "world_copy_jump": false,
      "zoom": 2,
      "zoom_animation_threshold": 4,
      "zoom_delta": 1,
      "zoom_snap": 1
     }
    },
    "040da0a0b621471e9aaab7661c03c2e2": {
     "model_module": "jupyter-leaflet",
     "model_module_version": "^0.19",
     "model_name": "LeafletMarkerModel",
     "state": {
      "_model_module": "jupyter-leaflet",
      "_model_module_version": "^0.19",
      "_model_name": "LeafletMarkerModel",
      "_view_count": null,
      "_view_module": "jupyter-leaflet",
      "_view_module_version": "^0.19",
      "_view_name": "LeafletMarkerView",
      "alt": "",
      "base": false,
      "bottom": false,
      "draggable": true,
      "icon": "IPY_MODEL_6a6604f57b334cd2bded38c9bc0ab54e",
      "keyboard": true,
      "location": [
       7.632198427408825,
       -59.7502588371817
      ],
      "name": "",
      "opacity": 1,
      "options": [
       "alt",
       "draggable",
       "keyboard",
       "rise_offset",
       "rise_on_hover",
       "rotation_angle",
       "rotation_origin",
       "title",
       "z_index_offset"
      ],
      "pane": "",
      "popup": null,
      "popup_max_height": null,
      "popup_max_width": 300,
      "popup_min_width": 50,
      "rise_offset": 250,
      "rise_on_hover": false,
      "rotation_angle": 0,
      "rotation_origin": "",
      "subitems": [],
      "title": "",
      "visible": true,
      "z_index_offset": 0
     }
    },
    "05aab5eb1b5f4cba854fe86d20940cfc": {
     "model_module": "jupyter-leaflet",
     "model_module_version": "^0.19",
     "model_name": "LeafletDrawControlModel",
     "state": {
      "_model_module": "jupyter-leaflet",
      "_model_module_version": "^0.19",
      "_model_name": "LeafletDrawControlModel",
      "_view_count": null,
      "_view_module": "jupyter-leaflet",
      "_view_module_version": "^0.19",
      "_view_name": "LeafletDrawControlView",
      "circle": {
       "shapeOptions": {
        "color": "#3388ff"
       }
      },
      "circlemarker": {},
      "data": [],
      "edit": true,
      "marker": {
       "shapeOptions": {
        "color": "#3388ff"
       }
      },
      "options": [
       "position"
      ],
      "polygon": {
       "shapeOptions": {}
      },
      "polyline": {
       "shapeOptions": {}
      },
      "position": "topleft",
      "rectangle": {
       "shapeOptions": {
        "color": "#3388ff"
       }
      },
      "remove": true
     }
    },
    "0cc0c93b2d8d48bcbeb5631862a437bc": {
     "model_module": "jupyter-leaflet",
     "model_module_version": "^0.19",
     "model_name": "LeafletTileLayerModel",
     "state": {
      "_model_module": "jupyter-leaflet",
      "_model_module_version": "^0.19",
      "_model_name": "LeafletTileLayerModel",
      "_view_count": null,
      "_view_module": "jupyter-leaflet",
      "_view_module_version": "^0.19",
      "_view_name": "LeafletTileLayerView",
      "attribution": "Google Earth Engine",
      "base": false,
      "bottom": true,
      "bounds": null,
      "detect_retina": false,
      "loading": false,
      "max_native_zoom": null,
      "max_zoom": 24,
      "min_native_zoom": null,
      "min_zoom": 0,
      "name": "Barima Waini (region N°1)",
      "no_wrap": false,
      "opacity": 1,
      "options": [
       "attribution",
       "bounds",
       "detect_retina",
       "max_native_zoom",
       "max_zoom",
       "min_native_zoom",
       "min_zoom",
       "no_wrap",
       "tile_size",
       "tms",
       "zoom_offset"
      ],
      "pane": "",
      "popup": null,
      "popup_max_height": null,
      "popup_max_width": 300,
      "popup_min_width": 50,
      "show_loading": false,
      "subitems": [],
      "tile_size": 256,
      "tms": false,
      "url": "https://earthengine.googleapis.com/v1/projects/murphys-deforisk/maps/a979560a5e94904af963b358fe369e84-5a549acd1e5f79d10b797a9d48725fed/tiles/{z}/{x}/{y}",
      "visible": true,
      "zoom_offset": 0
     }
    },
    "12c546518aa94e5fa099055be5c82522": {
     "model_module": "jupyter-leaflet",
     "model_module_version": "^0.19",
     "model_name": "LeafletTileLayerModel",
     "state": {
      "_model_module": "jupyter-leaflet",
      "_model_module_version": "^0.19",
      "_model_name": "LeafletTileLayerModel",
      "_view_count": null,
      "_view_module": "jupyter-leaflet",
      "_view_module_version": "^0.19",
      "_view_name": "LeafletTileLayerView",
      "attribution": "Google",
      "base": false,
      "bottom": true,
      "bounds": null,
      "detect_retina": false,
      "loading": false,
      "max_native_zoom": null,
      "max_zoom": 22,
      "min_native_zoom": null,
      "min_zoom": 0,
      "name": "Google Maps",
      "no_wrap": false,
      "opacity": 1,
      "options": [
       "attribution",
       "bounds",
       "detect_retina",
       "max_native_zoom",
       "max_zoom",
       "min_native_zoom",
       "min_zoom",
       "no_wrap",
       "tile_size",
       "tms",
       "zoom_offset"
      ],
      "pane": "",
      "popup": null,
      "popup_max_height": null,
      "popup_max_width": 300,
      "popup_min_width": 50,
      "show_loading": false,
      "subitems": [],
      "tile_size": 256,
      "tms": false,
      "url": "https://mt1.google.com/vt/lyrs=m&x={x}&y={y}&z={z}",
      "visible": true,
      "zoom_offset": 0
     }
    },
    "1990bca96634429eb197f67ba03d6b37": {
     "model_module": "jupyter-leaflet",
     "model_module_version": "^0.19",
     "model_name": "LeafletTileLayerModel",
     "state": {
      "_model_module": "jupyter-leaflet",
      "_model_module_version": "^0.19",
      "_model_name": "LeafletTileLayerModel",
      "_view_count": null,
      "_view_module": "jupyter-leaflet",
      "_view_module_version": "^0.19",
      "_view_name": "LeafletTileLayerView",
      "attribution": "Tiles (C) Esri -- Source: Esri, i-cubed, USDA, USGS, AEX, GeoEye, Getmapping, Aerogrid, IGN, IGP, UPR-EGP, and the GIS User Community",
      "base": false,
      "bottom": true,
      "bounds": null,
      "detect_retina": false,
      "loading": false,
      "max_native_zoom": null,
      "max_zoom": 22,
      "min_native_zoom": null,
      "min_zoom": 0,
      "name": "Esri.WorldImagery",
      "no_wrap": false,
      "opacity": 1,
      "options": [
       "attribution",
       "bounds",
       "detect_retina",
       "max_native_zoom",
       "max_zoom",
       "min_native_zoom",
       "min_zoom",
       "no_wrap",
       "tile_size",
       "tms",
       "zoom_offset"
      ],
      "pane": "",
      "popup": null,
      "popup_max_height": null,
      "popup_max_width": 300,
      "popup_min_width": 50,
      "show_loading": false,
      "subitems": [],
      "tile_size": 256,
      "tms": false,
      "url": "https://server.arcgisonline.com/ArcGIS/rest/services/World_Imagery/MapServer/tile/{z}/{y}/{x}",
      "visible": true,
      "zoom_offset": 0
     }
    },
    "267c8c5187c64d49bb435e39f0ecc631": {
     "model_module": "@jupyter-widgets/controls",
     "model_module_version": "1.5.0",
     "model_name": "HBoxModel",
     "state": {
      "_dom_classes": [],
      "_model_module": "@jupyter-widgets/controls",
      "_model_module_version": "1.5.0",
      "_model_name": "HBoxModel",
      "_view_count": null,
      "_view_module": "@jupyter-widgets/controls",
      "_view_module_version": "1.5.0",
      "_view_name": "HBoxView",
      "box_style": "",
      "children": [
       "IPY_MODEL_6374ffec5866431a8e96b6c6f9c3c7ea"
      ],
      "layout": "IPY_MODEL_54ff1f81bce04e8ebf9b79cca61f01f9"
     }
    },
    "276625aa7b0241faaaaa88716071dd3b": {
     "model_module": "@jupyter-widgets/controls",
     "model_module_version": "1.5.0",
     "model_name": "DescriptionStyleModel",
     "state": {
      "_model_module": "@jupyter-widgets/controls",
      "_model_module_version": "1.5.0",
      "_model_name": "DescriptionStyleModel",
      "_view_count": null,
      "_view_module": "@jupyter-widgets/base",
      "_view_module_version": "1.2.0",
      "_view_name": "StyleView",
      "description_width": ""
     }
    },
    "2b4bd755df3d43b39847a36ee7d417bb": {
     "model_module": "jupyter-leaflet",
     "model_module_version": "^0.19",
     "model_name": "LeafletMapStyleModel",
     "state": {
      "_model_module": "jupyter-leaflet",
      "_model_module_version": "^0.19",
      "_model_name": "LeafletMapStyleModel",
      "_view_count": null,
      "_view_module": "@jupyter-widgets/base",
      "_view_module_version": "1.2.0",
      "_view_name": "StyleView",
      "cursor": "grab"
     }
    },
    "2be797c8627a4f8fabcf241bc7e3a143": {
     "model_module": "@jupyter-widgets/base",
     "model_module_version": "1.2.0",
     "model_name": "LayoutModel",
     "state": {
      "_model_module": "@jupyter-widgets/base",
      "_model_module_version": "1.2.0",
      "_model_name": "LayoutModel",
      "_view_count": null,
      "_view_module": "@jupyter-widgets/base",
      "_view_module_version": "1.2.0",
      "_view_name": "LayoutView",
      "align_content": null,
      "align_items": null,
      "align_self": null,
      "border": null,
      "bottom": null,
      "display": null,
      "flex": null,
      "flex_flow": null,
      "grid_area": null,
      "grid_auto_columns": null,
      "grid_auto_flow": null,
      "grid_auto_rows": null,
      "grid_column": null,
      "grid_gap": null,
      "grid_row": null,
      "grid_template_areas": null,
      "grid_template_columns": null,
      "grid_template_rows": null,
      "height": "28px",
      "justify_content": null,
      "justify_items": null,
      "left": null,
      "margin": null,
      "max_height": null,
      "max_width": null,
      "min_height": null,
      "min_width": null,
      "object_fit": null,
      "object_position": null,
      "order": null,
      "overflow": null,
      "overflow_x": null,
      "overflow_y": null,
      "padding": "0px 0px 0px 4px",
      "right": null,
      "top": null,
      "visibility": null,
      "width": "28px"
     }
    },
    "2d68b8cc1f954786b8246be5bc62217d": {
     "model_module": "@jupyter-widgets/base",
     "model_module_version": "1.2.0",
     "model_name": "LayoutModel",
     "state": {
      "_model_module": "@jupyter-widgets/base",
      "_model_module_version": "1.2.0",
      "_model_name": "LayoutModel",
      "_view_count": null,
      "_view_module": "@jupyter-widgets/base",
      "_view_module_version": "1.2.0",
      "_view_name": "LayoutView",
      "align_content": null,
      "align_items": null,
      "align_self": null,
      "border": null,
      "bottom": null,
      "display": null,
      "flex": null,
      "flex_flow": null,
      "grid_area": null,
      "grid_auto_columns": null,
      "grid_auto_flow": null,
      "grid_auto_rows": null,
      "grid_column": null,
      "grid_gap": null,
      "grid_row": null,
      "grid_template_areas": null,
      "grid_template_columns": null,
      "grid_template_rows": null,
      "height": "28px",
      "justify_content": null,
      "justify_items": null,
      "left": null,
      "margin": null,
      "max_height": null,
      "max_width": null,
      "min_height": null,
      "min_width": null,
      "object_fit": null,
      "object_position": null,
      "order": null,
      "overflow": null,
      "overflow_x": null,
      "overflow_y": null,
      "padding": "0px 0px 0px 4px",
      "right": null,
      "top": null,
      "visibility": null,
      "width": "28px"
     }
    },
    "2da63189034b462b84030ae48d68599f": {
     "model_module": "jupyter-leaflet",
     "model_module_version": "^0.19",
     "model_name": "LeafletMapModel",
     "state": {
      "_dom_classes": [],
      "_model_module": "jupyter-leaflet",
      "_model_module_version": "^0.19",
      "_model_name": "LeafletMapModel",
      "_view_count": null,
      "_view_module": "jupyter-leaflet",
      "_view_module_version": "^0.19",
      "_view_name": "LeafletMapView",
      "bottom": 31674,
      "bounce_at_zoom_limits": true,
      "box_zoom": true,
      "center": [
       7.634775927004451,
       -59.74914550781251
      ],
      "close_popup_on_click": true,
      "controls": [
       "IPY_MODEL_526da959971a43a893c8bce2543acdd0",
       "IPY_MODEL_e1ebed7ea89b4d5c89942899c1f7c71e",
       "IPY_MODEL_f4e10679e0a34a1da94b17d10d8f95a7",
       "IPY_MODEL_4781eee3fda646028227e2d3b754e172",
       "IPY_MODEL_cdf7deb658e443db8ba4236a1de6b5b9",
       "IPY_MODEL_7fcd2aae531e4e658183786d281ca5fb",
       "IPY_MODEL_65e35df04d2f4e4d8969e4662cd26d79",
       "IPY_MODEL_4af34c2ce50744f28600c252c767f9e2",
       "IPY_MODEL_b2cb865d8e39475b9e1de8e3b55f439f"
      ],
      "crs": {
       "custom": false,
       "name": "EPSG3857"
      },
      "default_style": "IPY_MODEL_e5e87aa5ddf640d3b3f3b7c2420159c9",
      "double_click_zoom": true,
      "dragging": true,
      "dragging_style": "IPY_MODEL_dd69304af83947d39f6ce9042d216738",
      "east": -53.250732421875,
      "fullscreen": false,
      "inertia": true,
      "inertia_deceleration": 3000,
      "inertia_max_speed": 1500,
      "interpolation": "bilinear",
      "keyboard": true,
      "keyboard_pan_offset": 80,
      "keyboard_zoom_offset": 1,
      "layers": [
       "IPY_MODEL_374f15d74b704cf5aac79b2f88e2157b",
       "IPY_MODEL_12c546518aa94e5fa099055be5c82522",
       "IPY_MODEL_d57e3d168e0e4116ad614b370ffda78f",
       "IPY_MODEL_dd88aa7ef08a40729d139b2f85b94299",
       "IPY_MODEL_a82a6d6b73f54ab1b3000402c751f9d4"
      ],
      "layout": "IPY_MODEL_4ddb473903cd417396b1e4145c7322f7",
      "left": 20708,
      "max_zoom": 24,
      "min_zoom": null,
      "modisdate": "2024-12-09",
      "north": 9.264779334169571,
      "options": [
       "bounce_at_zoom_limits",
       "box_zoom",
       "center",
       "close_popup_on_click",
       "double_click_zoom",
       "dragging",
       "fullscreen",
       "inertia",
       "inertia_deceleration",
       "inertia_max_speed",
       "interpolation",
       "keyboard",
       "keyboard_pan_offset",
       "keyboard_zoom_offset",
       "max_zoom",
       "min_zoom",
       "prefer_canvas",
       "scroll_wheel_zoom",
       "tap",
       "tap_tolerance",
       "touch_zoom",
       "world_copy_jump",
       "zoom",
       "zoom_animation_threshold",
       "zoom_delta",
       "zoom_snap"
      ],
      "panes": {},
      "prefer_canvas": false,
      "right": 23074,
      "scroll_wheel_zoom": true,
      "south": 5.998533174329341,
      "style": "IPY_MODEL_e5e87aa5ddf640d3b3f3b7c2420159c9",
      "tap": true,
      "tap_tolerance": 15,
      "top": 31074,
      "touch_zoom": true,
      "west": -66.24755859375001,
      "window_url": "https://zdx1biu5zam-496ff2e9c6d22116-0-colab.googleusercontent.com/outputframe.html?vrz=colab_20241206-060108_RC00_703433784",
      "world_copy_jump": false,
      "zoom": 8,
      "zoom_animation_threshold": 4,
      "zoom_delta": 1,
      "zoom_snap": 1
     }
    },
    "2e4b455b6e7b4e9a99afa4d29d64b5b0": {
     "model_module": "jupyter-leaflet",
     "model_module_version": "^0.19",
     "model_name": "LeafletMarkerModel",
     "state": {
      "_model_module": "jupyter-leaflet",
      "_model_module_version": "^0.19",
      "_model_name": "LeafletMarkerModel",
      "_view_count": null,
      "_view_module": "jupyter-leaflet",
      "_view_module_version": "^0.19",
      "_view_name": "LeafletMarkerView",
      "alt": "",
      "base": false,
      "bottom": false,
      "draggable": true,
      "icon": "IPY_MODEL_eeb916c489ed493ea8320af991b362a7",
      "keyboard": true,
      "location": [
       4.792974158655902,
       -58.97213873238909
      ],
      "name": "",
      "opacity": 1,
      "options": [
       "alt",
       "draggable",
       "keyboard",
       "rise_offset",
       "rise_on_hover",
       "rotation_angle",
       "rotation_origin",
       "title",
       "z_index_offset"
      ],
      "pane": "",
      "popup": null,
      "popup_max_height": null,
      "popup_max_width": 300,
      "popup_min_width": 50,
      "rise_offset": 250,
      "rise_on_hover": false,
      "rotation_angle": 0,
      "rotation_origin": "",
      "subitems": [],
      "title": "",
      "visible": true,
      "z_index_offset": 0
     }
    },
    "2ef8d71e8b0e46e687610a5cb041de23": {
     "model_module": "@jupyter-widgets/controls",
     "model_module_version": "1.5.0",
     "model_name": "DescriptionStyleModel",
     "state": {
      "_model_module": "@jupyter-widgets/controls",
      "_model_module_version": "1.5.0",
      "_model_name": "DescriptionStyleModel",
      "_view_count": null,
      "_view_module": "@jupyter-widgets/base",
      "_view_module_version": "1.2.0",
      "_view_name": "StyleView",
      "description_width": ""
     }
    },
    "374f15d74b704cf5aac79b2f88e2157b": {
     "model_module": "jupyter-leaflet",
     "model_module_version": "^0.19",
     "model_name": "LeafletTileLayerModel",
     "state": {
      "_model_module": "jupyter-leaflet",
      "_model_module_version": "^0.19",
      "_model_name": "LeafletTileLayerModel",
      "_view_count": null,
      "_view_module": "jupyter-leaflet",
      "_view_module_version": "^0.19",
      "_view_name": "LeafletTileLayerView",
      "attribution": "&copy; <a href=\"https://www.openstreetmap.org/copyright\">OpenStreetMap</a> contributors",
      "base": true,
      "bottom": true,
      "bounds": null,
      "detect_retina": false,
      "loading": false,
      "max_native_zoom": null,
      "max_zoom": 19,
      "min_native_zoom": null,
      "min_zoom": 1,
      "name": "OpenStreetMap.Mapnik",
      "no_wrap": false,
      "opacity": 1,
      "options": [
       "attribution",
       "bounds",
       "detect_retina",
       "max_native_zoom",
       "max_zoom",
       "min_native_zoom",
       "min_zoom",
       "no_wrap",
       "tile_size",
       "tms",
       "zoom_offset"
      ],
      "pane": "",
      "popup": null,
      "popup_max_height": null,
      "popup_max_width": 300,
      "popup_min_width": 50,
      "show_loading": false,
      "subitems": [],
      "tile_size": 256,
      "tms": false,
      "url": "https://tile.openstreetmap.org/{z}/{x}/{y}.png",
      "visible": true,
      "zoom_offset": 0
     }
    },
    "4781eee3fda646028227e2d3b754e172": {
     "model_module": "jupyter-leaflet",
     "model_module_version": "^0.19",
     "model_name": "LeafletFullScreenControlModel",
     "state": {
      "_model_module": "jupyter-leaflet",
      "_model_module_version": "^0.19",
      "_model_name": "LeafletFullScreenControlModel",
      "_view_count": null,
      "_view_module": "jupyter-leaflet",
      "_view_module_version": "^0.19",
      "_view_name": "LeafletFullScreenControlView",
      "options": [
       "position"
      ],
      "position": "topleft"
     }
    },
    "4af34c2ce50744f28600c252c767f9e2": {
     "model_module": "jupyter-leaflet",
     "model_module_version": "^0.19",
     "model_name": "LeafletWidgetControlModel",
     "state": {
      "_model_module": "jupyter-leaflet",
      "_model_module_version": "^0.19",
      "_model_name": "LeafletWidgetControlModel",
      "_view_count": null,
      "_view_module": "jupyter-leaflet",
      "_view_module_version": "^0.19",
      "_view_name": "LeafletWidgetControlView",
      "max_height": null,
      "max_width": null,
      "min_height": null,
      "min_width": null,
      "options": [
       "position",
       "transparent_bg"
      ],
      "position": "topright",
      "transparent_bg": false,
      "widget": "IPY_MODEL_91f9ab4d9e37406d90f0298eff7c7032"
     }
    },
    "4ddb473903cd417396b1e4145c7322f7": {
     "model_module": "@jupyter-widgets/base",
     "model_module_version": "1.2.0",
     "model_name": "LayoutModel",
     "state": {
      "_model_module": "@jupyter-widgets/base",
      "_model_module_version": "1.2.0",
      "_model_name": "LayoutModel",
      "_view_count": null,
      "_view_module": "@jupyter-widgets/base",
      "_view_module_version": "1.2.0",
      "_view_name": "LayoutView",
      "align_content": null,
      "align_items": null,
      "align_self": null,
      "border": null,
      "bottom": null,
      "display": null,
      "flex": null,
      "flex_flow": null,
      "grid_area": null,
      "grid_auto_columns": null,
      "grid_auto_flow": null,
      "grid_auto_rows": null,
      "grid_column": null,
      "grid_gap": null,
      "grid_row": null,
      "grid_template_areas": null,
      "grid_template_columns": null,
      "grid_template_rows": null,
      "height": "600px",
      "justify_content": null,
      "justify_items": null,
      "left": null,
      "margin": null,
      "max_height": null,
      "max_width": null,
      "min_height": null,
      "min_width": null,
      "object_fit": null,
      "object_position": null,
      "order": null,
      "overflow": null,
      "overflow_x": null,
      "overflow_y": null,
      "padding": null,
      "right": null,
      "top": null,
      "visibility": null,
      "width": null
     }
    },
    "4f1cb82971d949059e51e8d2b899eb9d": {
     "model_module": "jupyter-leaflet",
     "model_module_version": "^0.19",
     "model_name": "LeafletTileLayerModel",
     "state": {
      "_model_module": "jupyter-leaflet",
      "_model_module_version": "^0.19",
      "_model_name": "LeafletTileLayerModel",
      "_view_count": null,
      "_view_module": "jupyter-leaflet",
      "_view_module_version": "^0.19",
      "_view_name": "LeafletTileLayerView",
      "attribution": "Google Earth Engine",
      "base": false,
      "bottom": true,
      "bounds": null,
      "detect_retina": false,
      "loading": false,
      "max_native_zoom": null,
      "max_zoom": 24,
      "min_native_zoom": null,
      "min_zoom": 0,
      "name": "Guyana",
      "no_wrap": false,
      "opacity": 1,
      "options": [
       "attribution",
       "bounds",
       "detect_retina",
       "max_native_zoom",
       "max_zoom",
       "min_native_zoom",
       "min_zoom",
       "no_wrap",
       "tile_size",
       "tms",
       "zoom_offset"
      ],
      "pane": "",
      "popup": null,
      "popup_max_height": null,
      "popup_max_width": 300,
      "popup_min_width": 50,
      "show_loading": false,
      "subitems": [],
      "tile_size": 256,
      "tms": false,
      "url": "https://earthengine.googleapis.com/v1/projects/murphys-deforisk/maps/e7bc5c17d239a8db72e7134fe0442c35-c26ce194ab1257ab86834db93ec9be44/tiles/{z}/{x}/{y}",
      "visible": true,
      "zoom_offset": 0
     }
    },
    "526da959971a43a893c8bce2543acdd0": {
     "model_module": "jupyter-leaflet",
     "model_module_version": "^0.19",
     "model_name": "LeafletWidgetControlModel",
     "state": {
      "_model_module": "jupyter-leaflet",
      "_model_module_version": "^0.19",
      "_model_name": "LeafletWidgetControlModel",
      "_view_count": null,
      "_view_module": "jupyter-leaflet",
      "_view_module_version": "^0.19",
      "_view_name": "LeafletWidgetControlView",
      "max_height": null,
      "max_width": null,
      "min_height": null,
      "min_width": null,
      "options": [
       "position",
       "transparent_bg"
      ],
      "position": "topleft",
      "transparent_bg": false,
      "widget": "IPY_MODEL_267c8c5187c64d49bb435e39f0ecc631"
     }
    },
    "54ff1f81bce04e8ebf9b79cca61f01f9": {
     "model_module": "@jupyter-widgets/base",
     "model_module_version": "1.2.0",
     "model_name": "LayoutModel",
     "state": {
      "_model_module": "@jupyter-widgets/base",
      "_model_module_version": "1.2.0",
      "_model_name": "LayoutModel",
      "_view_count": null,
      "_view_module": "@jupyter-widgets/base",
      "_view_module_version": "1.2.0",
      "_view_name": "LayoutView",
      "align_content": null,
      "align_items": null,
      "align_self": null,
      "border": null,
      "bottom": null,
      "display": null,
      "flex": null,
      "flex_flow": null,
      "grid_area": null,
      "grid_auto_columns": null,
      "grid_auto_flow": null,
      "grid_auto_rows": null,
      "grid_column": null,
      "grid_gap": null,
      "grid_row": null,
      "grid_template_areas": null,
      "grid_template_columns": null,
      "grid_template_rows": null,
      "height": null,
      "justify_content": null,
      "justify_items": null,
      "left": null,
      "margin": null,
      "max_height": null,
      "max_width": null,
      "min_height": null,
      "min_width": null,
      "object_fit": null,
      "object_position": null,
      "order": null,
      "overflow": null,
      "overflow_x": null,
      "overflow_y": null,
      "padding": null,
      "right": null,
      "top": null,
      "visibility": null,
      "width": null
     }
    },
    "57c36916f9054c29a4242db1500a8055": {
     "model_module": "@jupyter-widgets/base",
     "model_module_version": "1.2.0",
     "model_name": "LayoutModel",
     "state": {
      "_model_module": "@jupyter-widgets/base",
      "_model_module_version": "1.2.0",
      "_model_name": "LayoutModel",
      "_view_count": null,
      "_view_module": "@jupyter-widgets/base",
      "_view_module_version": "1.2.0",
      "_view_name": "LayoutView",
      "align_content": null,
      "align_items": null,
      "align_self": null,
      "border": null,
      "bottom": null,
      "display": null,
      "flex": null,
      "flex_flow": null,
      "grid_area": null,
      "grid_auto_columns": null,
      "grid_auto_flow": null,
      "grid_auto_rows": null,
      "grid_column": null,
      "grid_gap": null,
      "grid_row": null,
      "grid_template_areas": null,
      "grid_template_columns": null,
      "grid_template_rows": null,
      "height": "600px",
      "justify_content": null,
      "justify_items": null,
      "left": null,
      "margin": null,
      "max_height": null,
      "max_width": null,
      "min_height": null,
      "min_width": null,
      "object_fit": null,
      "object_position": null,
      "order": null,
      "overflow": null,
      "overflow_x": null,
      "overflow_y": null,
      "padding": null,
      "right": null,
      "top": null,
      "visibility": null,
      "width": null
     }
    },
    "5a9188ed2f97432bba8c9f3d5d4bdeab": {
     "model_module": "jupyter-leaflet",
     "model_module_version": "^0.19",
     "model_name": "LeafletTileLayerModel",
     "state": {
      "_model_module": "jupyter-leaflet",
      "_model_module_version": "^0.19",
      "_model_name": "LeafletTileLayerModel",
      "_view_count": null,
      "_view_module": "jupyter-leaflet",
      "_view_module_version": "^0.19",
      "_view_name": "LeafletTileLayerView",
      "attribution": "&copy; <a href=\"https://www.openstreetmap.org/copyright\">OpenStreetMap</a> contributors",
      "base": true,
      "bottom": true,
      "bounds": null,
      "detect_retina": false,
      "loading": false,
      "max_native_zoom": null,
      "max_zoom": 19,
      "min_native_zoom": null,
      "min_zoom": 1,
      "name": "OpenStreetMap.Mapnik",
      "no_wrap": false,
      "opacity": 1,
      "options": [
       "attribution",
       "bounds",
       "detect_retina",
       "max_native_zoom",
       "max_zoom",
       "min_native_zoom",
       "min_zoom",
       "no_wrap",
       "tile_size",
       "tms",
       "zoom_offset"
      ],
      "pane": "",
      "popup": null,
      "popup_max_height": null,
      "popup_max_width": 300,
      "popup_min_width": 50,
      "show_loading": false,
      "subitems": [],
      "tile_size": 256,
      "tms": false,
      "url": "https://tile.openstreetmap.org/{z}/{x}/{y}.png",
      "visible": true,
      "zoom_offset": 0
     }
    },
    "60a46fb4c6c74e0db9cc000a60a84886": {
     "model_module": "@jupyter-widgets/controls",
     "model_module_version": "1.5.0",
     "model_name": "VBoxModel",
     "state": {
      "_dom_classes": [],
      "_model_module": "@jupyter-widgets/controls",
      "_model_module_version": "1.5.0",
      "_model_name": "VBoxModel",
      "_view_count": null,
      "_view_module": "@jupyter-widgets/controls",
      "_view_module_version": "1.5.0",
      "_view_name": "VBoxView",
      "box_style": "",
      "children": [
       "IPY_MODEL_787a83e0789247ec86001191e4ef8587"
      ],
      "layout": "IPY_MODEL_f8e1c926fd944d32a68a1165163596f9"
     }
    },
    "6374ffec5866431a8e96b6c6f9c3c7ea": {
     "model_module": "@jupyter-widgets/controls",
     "model_module_version": "1.5.0",
     "model_name": "ToggleButtonModel",
     "state": {
      "_dom_classes": [],
      "_model_module": "@jupyter-widgets/controls",
      "_model_module_version": "1.5.0",
      "_model_name": "ToggleButtonModel",
      "_view_count": null,
      "_view_module": "@jupyter-widgets/controls",
      "_view_module_version": "1.5.0",
      "_view_name": "ToggleButtonView",
      "button_style": "",
      "description": "",
      "description_tooltip": null,
      "disabled": false,
      "icon": "globe",
      "layout": "IPY_MODEL_ab0582398aef4f44bf380ff1d13aff6f",
      "style": "IPY_MODEL_276625aa7b0241faaaaa88716071dd3b",
      "tooltip": "Search location/data",
      "value": false
     }
    },
    "65e35df04d2f4e4d8969e4662cd26d79": {
     "model_module": "jupyter-leaflet",
     "model_module_version": "^0.19",
     "model_name": "LeafletDrawControlModel",
     "state": {
      "_model_module": "jupyter-leaflet",
      "_model_module_version": "^0.19",
      "_model_name": "LeafletDrawControlModel",
      "_view_count": null,
      "_view_module": "jupyter-leaflet",
      "_view_module_version": "^0.19",
      "_view_name": "LeafletDrawControlView",
      "circle": {
       "shapeOptions": {
        "color": "#3388ff"
       }
      },
      "circlemarker": {},
      "data": [],
      "edit": true,
      "marker": {
       "shapeOptions": {
        "color": "#3388ff"
       }
      },
      "options": [
       "position"
      ],
      "polygon": {
       "shapeOptions": {}
      },
      "polyline": {
       "shapeOptions": {}
      },
      "position": "topleft",
      "rectangle": {
       "shapeOptions": {
        "color": "#3388ff"
       }
      },
      "remove": true
     }
    },
    "6a6604f57b334cd2bded38c9bc0ab54e": {
     "model_module": "jupyter-leaflet",
     "model_module_version": "^0.19",
     "model_name": "LeafletDivIconModel",
     "state": {
      "_model_module": "jupyter-leaflet",
      "_model_module_version": "^0.19",
      "_model_name": "LeafletDivIconModel",
      "_view_count": null,
      "_view_module": "jupyter-leaflet",
      "_view_module_version": "^0.19",
      "_view_name": "LeafletDivIconView",
      "base": false,
      "bg_pos": [
       0,
       0
      ],
      "bottom": false,
      "html": "<div style=\"font-size: 9pt;color:red;font-family:arial;font-weight: bold\">Barima Waini (region N°1)</div>",
      "icon_anchor": [
       9,
       9
      ],
      "icon_size": [
       1,
       1
      ],
      "name": "",
      "options": [
       "bg_pos",
       "html",
       "icon_anchor",
       "icon_size",
       "popup_anchor"
      ],
      "pane": "",
      "popup": null,
      "popup_anchor": [
       0,
       0
      ],
      "popup_max_height": null,
      "popup_max_width": 300,
      "popup_min_width": 50,
      "subitems": []
     }
    },
    "787a83e0789247ec86001191e4ef8587": {
     "model_module": "@jupyter-widgets/controls",
     "model_module_version": "1.5.0",
     "model_name": "ToggleButtonModel",
     "state": {
      "_dom_classes": [],
      "_model_module": "@jupyter-widgets/controls",
      "_model_module_version": "1.5.0",
      "_model_name": "ToggleButtonModel",
      "_view_count": null,
      "_view_module": "@jupyter-widgets/controls",
      "_view_module_version": "1.5.0",
      "_view_name": "ToggleButtonView",
      "button_style": "",
      "description": "",
      "description_tooltip": null,
      "disabled": false,
      "icon": "wrench",
      "layout": "IPY_MODEL_faeba0f9208e466c9aeb27be94332d59",
      "style": "IPY_MODEL_2ef8d71e8b0e46e687610a5cb041de23",
      "tooltip": "Toolbar",
      "value": false
     }
    },
    "7d6378e1ca6a4aa79b888b504d64e0b4": {
     "model_module": "@jupyter-widgets/controls",
     "model_module_version": "1.5.0",
     "model_name": "ToggleButtonModel",
     "state": {
      "_dom_classes": [],
      "_model_module": "@jupyter-widgets/controls",
      "_model_module_version": "1.5.0",
      "_model_name": "ToggleButtonModel",
      "_view_count": null,
      "_view_module": "@jupyter-widgets/controls",
      "_view_module_version": "1.5.0",
      "_view_name": "ToggleButtonView",
      "button_style": "",
      "description": "",
      "description_tooltip": null,
      "disabled": false,
      "icon": "wrench",
      "layout": "IPY_MODEL_2d68b8cc1f954786b8246be5bc62217d",
      "style": "IPY_MODEL_9287e0f3adb94bacb4f9a57113eddf1c",
      "tooltip": "Toolbar",
      "value": false
     }
    },
    "7fcd2aae531e4e658183786d281ca5fb": {
     "model_module": "jupyter-leaflet",
     "model_module_version": "^0.19",
     "model_name": "LeafletAttributionControlModel",
     "state": {
      "_model_module": "jupyter-leaflet",
      "_model_module_version": "^0.19",
      "_model_name": "LeafletAttributionControlModel",
      "_view_count": null,
      "_view_module": "jupyter-leaflet",
      "_view_module_version": "^0.19",
      "_view_name": "LeafletAttributionControlView",
      "options": [
       "position",
       "prefix"
      ],
      "position": "bottomright",
      "prefix": "ipyleaflet"
     }
    },
    "91b7919119f84c76a79c28cbbd594ced": {
     "model_module": "jupyter-leaflet",
     "model_module_version": "^0.19",
     "model_name": "LeafletMapStyleModel",
     "state": {
      "_model_module": "jupyter-leaflet",
      "_model_module_version": "^0.19",
      "_model_name": "LeafletMapStyleModel",
      "_view_count": null,
      "_view_module": "@jupyter-widgets/base",
      "_view_module_version": "1.2.0",
      "_view_name": "StyleView",
      "cursor": "move"
     }
    },
    "91f9ab4d9e37406d90f0298eff7c7032": {
     "model_module": "@jupyter-widgets/controls",
     "model_module_version": "1.5.0",
     "model_name": "VBoxModel",
     "state": {
      "_dom_classes": [],
      "_model_module": "@jupyter-widgets/controls",
      "_model_module_version": "1.5.0",
      "_model_name": "VBoxModel",
      "_view_count": null,
      "_view_module": "@jupyter-widgets/controls",
      "_view_module_version": "1.5.0",
      "_view_name": "VBoxView",
      "box_style": "",
      "children": [
       "IPY_MODEL_7d6378e1ca6a4aa79b888b504d64e0b4"
      ],
      "layout": "IPY_MODEL_d45d95888e1d4d498885a04ea467d539"
     }
    },
    "9287e0f3adb94bacb4f9a57113eddf1c": {
     "model_module": "@jupyter-widgets/controls",
     "model_module_version": "1.5.0",
     "model_name": "DescriptionStyleModel",
     "state": {
      "_model_module": "@jupyter-widgets/controls",
      "_model_module_version": "1.5.0",
      "_model_name": "DescriptionStyleModel",
      "_view_count": null,
      "_view_module": "@jupyter-widgets/base",
      "_view_module_version": "1.2.0",
      "_view_name": "StyleView",
      "description_width": ""
     }
    },
    "9bc3ffcb004142e1ad26d0829aa2dc75": {
     "model_module": "jupyter-leaflet",
     "model_module_version": "^0.19",
     "model_name": "LeafletMapStyleModel",
     "state": {
      "_model_module": "jupyter-leaflet",
      "_model_module_version": "^0.19",
      "_model_name": "LeafletMapStyleModel",
      "_view_count": null,
      "_view_module": "@jupyter-widgets/base",
      "_view_module_version": "1.2.0",
      "_view_name": "StyleView",
      "cursor": "grab"
     }
    },
    "a6dac4ebde8b460da9643b6c2f57b340": {
     "model_module": "@jupyter-widgets/controls",
     "model_module_version": "1.5.0",
     "model_name": "ToggleButtonModel",
     "state": {
      "_dom_classes": [],
      "_model_module": "@jupyter-widgets/controls",
      "_model_module_version": "1.5.0",
      "_model_name": "ToggleButtonModel",
      "_view_count": null,
      "_view_module": "@jupyter-widgets/controls",
      "_view_module_version": "1.5.0",
      "_view_name": "ToggleButtonView",
      "button_style": "",
      "description": "",
      "description_tooltip": null,
      "disabled": false,
      "icon": "globe",
      "layout": "IPY_MODEL_2be797c8627a4f8fabcf241bc7e3a143",
      "style": "IPY_MODEL_e9b6dbac12584c36ae9fd69810d8c162",
      "tooltip": "Search location/data",
      "value": false
     }
    },
    "a82a6d6b73f54ab1b3000402c751f9d4": {
     "model_module": "jupyter-leaflet",
     "model_module_version": "^0.19",
     "model_name": "LeafletTileLayerModel",
     "state": {
      "_model_module": "jupyter-leaflet",
      "_model_module_version": "^0.19",
      "_model_name": "LeafletTileLayerModel",
      "_view_count": null,
      "_view_module": "jupyter-leaflet",
      "_view_module_version": "^0.19",
      "_view_name": "LeafletTileLayerView",
      "attribution": "Google Earth Engine",
      "base": false,
      "bottom": true,
      "bounds": null,
      "detect_retina": false,
      "loading": false,
      "max_native_zoom": null,
      "max_zoom": 24,
      "min_native_zoom": null,
      "min_zoom": 0,
      "name": "Area of Interest",
      "no_wrap": false,
      "opacity": 1,
      "options": [
       "attribution",
       "bounds",
       "detect_retina",
       "max_native_zoom",
       "max_zoom",
       "min_native_zoom",
       "min_zoom",
       "no_wrap",
       "tile_size",
       "tms",
       "zoom_offset"
      ],
      "pane": "",
      "popup": null,
      "popup_max_height": null,
      "popup_max_width": 300,
      "popup_min_width": 50,
      "show_loading": false,
      "subitems": [],
      "tile_size": 256,
      "tms": false,
      "url": "https://earthengine.googleapis.com/v1/projects/murphys-deforisk/maps/8ebf3ae5665ba603e7f7dd7a75bbf7cb-77127c83cba019c221d5919b42989666/tiles/{z}/{x}/{y}",
      "visible": true,
      "zoom_offset": 0
     }
    },
    "ab0582398aef4f44bf380ff1d13aff6f": {
     "model_module": "@jupyter-widgets/base",
     "model_module_version": "1.2.0",
     "model_name": "LayoutModel",
     "state": {
      "_model_module": "@jupyter-widgets/base",
      "_model_module_version": "1.2.0",
      "_model_name": "LayoutModel",
      "_view_count": null,
      "_view_module": "@jupyter-widgets/base",
      "_view_module_version": "1.2.0",
      "_view_name": "LayoutView",
      "align_content": null,
      "align_items": null,
      "align_self": null,
      "border": null,
      "bottom": null,
      "display": null,
      "flex": null,
      "flex_flow": null,
      "grid_area": null,
      "grid_auto_columns": null,
      "grid_auto_flow": null,
      "grid_auto_rows": null,
      "grid_column": null,
      "grid_gap": null,
      "grid_row": null,
      "grid_template_areas": null,
      "grid_template_columns": null,
      "grid_template_rows": null,
      "height": "28px",
      "justify_content": null,
      "justify_items": null,
      "left": null,
      "margin": null,
      "max_height": null,
      "max_width": null,
      "min_height": null,
      "min_width": null,
      "object_fit": null,
      "object_position": null,
      "order": null,
      "overflow": null,
      "overflow_x": null,
      "overflow_y": null,
      "padding": "0px 0px 0px 4px",
      "right": null,
      "top": null,
      "visibility": null,
      "width": "28px"
     }
    },
    "b2cb865d8e39475b9e1de8e3b55f439f": {
     "model_module": "jupyter-leaflet",
     "model_module_version": "^0.19",
     "model_name": "LeafletLayersControlModel",
     "state": {
      "_model_module": "jupyter-leaflet",
      "_model_module_version": "^0.19",
      "_model_name": "LeafletLayersControlModel",
      "_view_count": null,
      "_view_module": "jupyter-leaflet",
      "_view_module_version": "^0.19",
      "_view_name": "LeafletLayersControlView",
      "collapsed": true,
      "options": [
       "collapsed",
       "position"
      ],
      "position": "topright"
     }
    },
    "ba2aab5727a74954ada53de21ded0993": {
     "model_module": "jupyter-leaflet",
     "model_module_version": "^0.19",
     "model_name": "LeafletFullScreenControlModel",
     "state": {
      "_model_module": "jupyter-leaflet",
      "_model_module_version": "^0.19",
      "_model_name": "LeafletFullScreenControlModel",
      "_view_count": null,
      "_view_module": "jupyter-leaflet",
      "_view_module_version": "^0.19",
      "_view_name": "LeafletFullScreenControlView",
      "options": [
       "position"
      ],
      "position": "topleft"
     }
    },
    "bd36e610aecf41a08e477d4db1e76358": {
     "model_module": "jupyter-leaflet",
     "model_module_version": "^0.19",
     "model_name": "LeafletLayerGroupModel",
     "state": {
      "_model_module": "jupyter-leaflet",
      "_model_module_version": "^0.19",
      "_model_name": "LeafletLayerGroupModel",
      "_view_count": null,
      "_view_module": "jupyter-leaflet",
      "_view_module_version": "^0.19",
      "_view_name": "LeafletLayerGroupView",
      "base": false,
      "bottom": false,
      "layers": [
       "IPY_MODEL_040da0a0b621471e9aaab7661c03c2e2"
      ],
      "name": "Labels",
      "options": [],
      "pane": "",
      "popup": null,
      "popup_max_height": null,
      "popup_max_width": 300,
      "popup_min_width": 50,
      "subitems": []
     }
    },
    "c4bcaa9da5184c5b883aa13864391319": {
     "model_module": "jupyter-leaflet",
     "model_module_version": "^0.19",
     "model_name": "LeafletWidgetControlModel",
     "state": {
      "_model_module": "jupyter-leaflet",
      "_model_module_version": "^0.19",
      "_model_name": "LeafletWidgetControlModel",
      "_view_count": null,
      "_view_module": "jupyter-leaflet",
      "_view_module_version": "^0.19",
      "_view_name": "LeafletWidgetControlView",
      "max_height": null,
      "max_width": null,
      "min_height": null,
      "min_width": null,
      "options": [
       "position",
       "transparent_bg"
      ],
      "position": "topleft",
      "transparent_bg": false,
      "widget": "IPY_MODEL_ce654c9bb0cb4179a00926d0875f6cf2"
     }
    },
    "cdf7deb658e443db8ba4236a1de6b5b9": {
     "model_module": "jupyter-leaflet",
     "model_module_version": "^0.19",
     "model_name": "LeafletMeasureControlModel",
     "state": {
      "_custom_units": {},
      "_model_module": "jupyter-leaflet",
      "_model_module_version": "^0.19",
      "_model_name": "LeafletMeasureControlModel",
      "_view_count": null,
      "_view_module": "jupyter-leaflet",
      "_view_module_version": "^0.19",
      "_view_name": "LeafletMeasureControlView",
      "active_color": "orange",
      "capture_z_index": 10000,
      "completed_color": "#C8F2BE",
      "options": [
       "active_color",
       "capture_z_index",
       "completed_color",
       "popup_options",
       "position",
       "primary_area_unit",
       "primary_length_unit",
       "secondary_area_unit",
       "secondary_length_unit"
      ],
      "popup_options": {
       "autoPanPadding": [
        10,
        10
       ],
       "className": "leaflet-measure-resultpopup"
      },
      "position": "bottomleft",
      "primary_area_unit": "acres",
      "primary_length_unit": "kilometers",
      "secondary_area_unit": null,
      "secondary_length_unit": null
     }
    },
    "ce654c9bb0cb4179a00926d0875f6cf2": {
     "model_module": "@jupyter-widgets/controls",
     "model_module_version": "1.5.0",
     "model_name": "HBoxModel",
     "state": {
      "_dom_classes": [],
      "_model_module": "@jupyter-widgets/controls",
      "_model_module_version": "1.5.0",
      "_model_name": "HBoxModel",
      "_view_count": null,
      "_view_module": "@jupyter-widgets/controls",
      "_view_module_version": "1.5.0",
      "_view_name": "HBoxView",
      "box_style": "",
      "children": [
       "IPY_MODEL_a6dac4ebde8b460da9643b6c2f57b340"
      ],
      "layout": "IPY_MODEL_f3c91fd887bf40e6bf2511192d4c1fb9"
     }
    },
    "d45d95888e1d4d498885a04ea467d539": {
     "model_module": "@jupyter-widgets/base",
     "model_module_version": "1.2.0",
     "model_name": "LayoutModel",
     "state": {
      "_model_module": "@jupyter-widgets/base",
      "_model_module_version": "1.2.0",
      "_model_name": "LayoutModel",
      "_view_count": null,
      "_view_module": "@jupyter-widgets/base",
      "_view_module_version": "1.2.0",
      "_view_name": "LayoutView",
      "align_content": null,
      "align_items": null,
      "align_self": null,
      "border": null,
      "bottom": null,
      "display": null,
      "flex": null,
      "flex_flow": null,
      "grid_area": null,
      "grid_auto_columns": null,
      "grid_auto_flow": null,
      "grid_auto_rows": null,
      "grid_column": null,
      "grid_gap": null,
      "grid_row": null,
      "grid_template_areas": null,
      "grid_template_columns": null,
      "grid_template_rows": null,
      "height": null,
      "justify_content": null,
      "justify_items": null,
      "left": null,
      "margin": null,
      "max_height": null,
      "max_width": null,
      "min_height": null,
      "min_width": null,
      "object_fit": null,
      "object_position": null,
      "order": null,
      "overflow": null,
      "overflow_x": null,
      "overflow_y": null,
      "padding": null,
      "right": null,
      "top": null,
      "visibility": null,
      "width": null
     }
    },
    "d57e3d168e0e4116ad614b370ffda78f": {
     "model_module": "jupyter-leaflet",
     "model_module_version": "^0.19",
     "model_name": "LeafletTileLayerModel",
     "state": {
      "_model_module": "jupyter-leaflet",
      "_model_module_version": "^0.19",
      "_model_name": "LeafletTileLayerModel",
      "_view_count": null,
      "_view_module": "jupyter-leaflet",
      "_view_module_version": "^0.19",
      "_view_name": "LeafletTileLayerView",
      "attribution": "Google Earth Engine",
      "base": false,
      "bottom": true,
      "bounds": null,
      "detect_retina": false,
      "loading": false,
      "max_native_zoom": null,
      "max_zoom": 24,
      "min_native_zoom": null,
      "min_zoom": 0,
      "name": "NDVI 2014",
      "no_wrap": false,
      "opacity": 1,
      "options": [
       "attribution",
       "bounds",
       "detect_retina",
       "max_native_zoom",
       "max_zoom",
       "min_native_zoom",
       "min_zoom",
       "no_wrap",
       "tile_size",
       "tms",
       "zoom_offset"
      ],
      "pane": "",
      "popup": null,
      "popup_max_height": null,
      "popup_max_width": 300,
      "popup_min_width": 50,
      "show_loading": false,
      "subitems": [],
      "tile_size": 256,
      "tms": false,
      "url": "https://earthengine.googleapis.com/v1/projects/murphys-deforisk/maps/c6a0099d42763a0a6beeecc3300ba63b-7a8d4cc7113224efdb6d07cc9e926667/tiles/{z}/{x}/{y}",
      "visible": true,
      "zoom_offset": 0
     }
    },
    "d69c5ffd623948f8b1ac5481ca9f6f6f": {
     "model_module": "jupyter-leaflet",
     "model_module_version": "^0.19",
     "model_name": "LeafletMeasureControlModel",
     "state": {
      "_custom_units": {},
      "_model_module": "jupyter-leaflet",
      "_model_module_version": "^0.19",
      "_model_name": "LeafletMeasureControlModel",
      "_view_count": null,
      "_view_module": "jupyter-leaflet",
      "_view_module_version": "^0.19",
      "_view_name": "LeafletMeasureControlView",
      "active_color": "orange",
      "capture_z_index": 10000,
      "completed_color": "#C8F2BE",
      "options": [
       "active_color",
       "capture_z_index",
       "completed_color",
       "popup_options",
       "position",
       "primary_area_unit",
       "primary_length_unit",
       "secondary_area_unit",
       "secondary_length_unit"
      ],
      "popup_options": {
       "autoPanPadding": [
        10,
        10
       ],
       "className": "leaflet-measure-resultpopup"
      },
      "position": "bottomleft",
      "primary_area_unit": "acres",
      "primary_length_unit": "kilometers",
      "secondary_area_unit": null,
      "secondary_length_unit": null
     }
    },
    "d8180df0f61e4e789335ac7d7609c3d1": {
     "model_module": "jupyter-leaflet",
     "model_module_version": "^0.19",
     "model_name": "LeafletAttributionControlModel",
     "state": {
      "_model_module": "jupyter-leaflet",
      "_model_module_version": "^0.19",
      "_model_name": "LeafletAttributionControlModel",
      "_view_count": null,
      "_view_module": "jupyter-leaflet",
      "_view_module_version": "^0.19",
      "_view_name": "LeafletAttributionControlView",
      "options": [
       "position",
       "prefix"
      ],
      "position": "bottomright",
      "prefix": "ipyleaflet"
     }
    },
    "da85ace1949e4f23997ec427e185f274": {
     "model_module": "jupyter-leaflet",
     "model_module_version": "^0.19",
     "model_name": "LeafletWidgetControlModel",
     "state": {
      "_model_module": "jupyter-leaflet",
      "_model_module_version": "^0.19",
      "_model_name": "LeafletWidgetControlModel",
      "_view_count": null,
      "_view_module": "jupyter-leaflet",
      "_view_module_version": "^0.19",
      "_view_name": "LeafletWidgetControlView",
      "max_height": null,
      "max_width": null,
      "min_height": null,
      "min_width": null,
      "options": [
       "position",
       "transparent_bg"
      ],
      "position": "topright",
      "transparent_bg": false,
      "widget": "IPY_MODEL_60a46fb4c6c74e0db9cc000a60a84886"
     }
    },
    "dd69304af83947d39f6ce9042d216738": {
     "model_module": "jupyter-leaflet",
     "model_module_version": "^0.19",
     "model_name": "LeafletMapStyleModel",
     "state": {
      "_model_module": "jupyter-leaflet",
      "_model_module_version": "^0.19",
      "_model_name": "LeafletMapStyleModel",
      "_view_count": null,
      "_view_module": "@jupyter-widgets/base",
      "_view_module_version": "1.2.0",
      "_view_name": "StyleView",
      "cursor": "move"
     }
    },
    "dd88aa7ef08a40729d139b2f85b94299": {
     "model_module": "jupyter-leaflet",
     "model_module_version": "^0.19",
     "model_name": "LeafletTileLayerModel",
     "state": {
      "_model_module": "jupyter-leaflet",
      "_model_module_version": "^0.19",
      "_model_name": "LeafletTileLayerModel",
      "_view_count": null,
      "_view_module": "jupyter-leaflet",
      "_view_module_version": "^0.19",
      "_view_name": "LeafletTileLayerView",
      "attribution": "Google Earth Engine",
      "base": false,
      "bottom": true,
      "bounds": null,
      "detect_retina": false,
      "loading": false,
      "max_native_zoom": null,
      "max_zoom": 24,
      "min_native_zoom": null,
      "min_zoom": 0,
      "name": "NDVI 2024",
      "no_wrap": false,
      "opacity": 1,
      "options": [
       "attribution",
       "bounds",
       "detect_retina",
       "max_native_zoom",
       "max_zoom",
       "min_native_zoom",
       "min_zoom",
       "no_wrap",
       "tile_size",
       "tms",
       "zoom_offset"
      ],
      "pane": "",
      "popup": null,
      "popup_max_height": null,
      "popup_max_width": 300,
      "popup_min_width": 50,
      "show_loading": false,
      "subitems": [],
      "tile_size": 256,
      "tms": false,
      "url": "https://earthengine.googleapis.com/v1/projects/murphys-deforisk/maps/7545becf982b763cb47be332cf3b6469-db30533110a4f05f2b3b80cca76922a6/tiles/{z}/{x}/{y}",
      "visible": true,
      "zoom_offset": 0
     }
    },
    "e1ebed7ea89b4d5c89942899c1f7c71e": {
     "model_module": "jupyter-leaflet",
     "model_module_version": "^0.19",
     "model_name": "LeafletZoomControlModel",
     "state": {
      "_model_module": "jupyter-leaflet",
      "_model_module_version": "^0.19",
      "_model_name": "LeafletZoomControlModel",
      "_view_count": null,
      "_view_module": "jupyter-leaflet",
      "_view_module_version": "^0.19",
      "_view_name": "LeafletZoomControlView",
      "options": [
       "position",
       "zoom_in_text",
       "zoom_in_title",
       "zoom_out_text",
       "zoom_out_title"
      ],
      "position": "topleft",
      "zoom_in_text": "+",
      "zoom_in_title": "Zoom in",
      "zoom_out_text": "-",
      "zoom_out_title": "Zoom out"
     }
    },
    "e5e87aa5ddf640d3b3f3b7c2420159c9": {
     "model_module": "jupyter-leaflet",
     "model_module_version": "^0.19",
     "model_name": "LeafletMapStyleModel",
     "state": {
      "_model_module": "jupyter-leaflet",
      "_model_module_version": "^0.19",
      "_model_name": "LeafletMapStyleModel",
      "_view_count": null,
      "_view_module": "@jupyter-widgets/base",
      "_view_module_version": "1.2.0",
      "_view_name": "StyleView",
      "cursor": "grab"
     }
    },
    "e83dae2e1cb54803835d9e7cca0a875b": {
     "model_module": "jupyter-leaflet",
     "model_module_version": "^0.19",
     "model_name": "LeafletScaleControlModel",
     "state": {
      "_model_module": "jupyter-leaflet",
      "_model_module_version": "^0.19",
      "_model_name": "LeafletScaleControlModel",
      "_view_count": null,
      "_view_module": "jupyter-leaflet",
      "_view_module_version": "^0.19",
      "_view_name": "LeafletScaleControlView",
      "imperial": true,
      "max_width": 100,
      "metric": true,
      "options": [
       "imperial",
       "max_width",
       "metric",
       "position",
       "update_when_idle"
      ],
      "position": "bottomleft",
      "update_when_idle": false
     }
    },
    "e9b6dbac12584c36ae9fd69810d8c162": {
     "model_module": "@jupyter-widgets/controls",
     "model_module_version": "1.5.0",
     "model_name": "DescriptionStyleModel",
     "state": {
      "_model_module": "@jupyter-widgets/controls",
      "_model_module_version": "1.5.0",
      "_model_name": "DescriptionStyleModel",
      "_view_count": null,
      "_view_module": "@jupyter-widgets/base",
      "_view_module_version": "1.2.0",
      "_view_name": "StyleView",
      "description_width": ""
     }
    },
    "eeb916c489ed493ea8320af991b362a7": {
     "model_module": "jupyter-leaflet",
     "model_module_version": "^0.19",
     "model_name": "LeafletDivIconModel",
     "state": {
      "_model_module": "jupyter-leaflet",
      "_model_module_version": "^0.19",
      "_model_name": "LeafletDivIconModel",
      "_view_count": null,
      "_view_module": "jupyter-leaflet",
      "_view_module_version": "^0.19",
      "_view_name": "LeafletDivIconView",
      "base": false,
      "bg_pos": [
       0,
       0
      ],
      "bottom": false,
      "html": "<div style=\"font-size: 12pt;color:white;font-family:arial;font-weight: normal\">Guyana</div>",
      "icon_anchor": [
       12,
       12
      ],
      "icon_size": [
       1,
       1
      ],
      "name": "",
      "options": [
       "bg_pos",
       "html",
       "icon_anchor",
       "icon_size",
       "popup_anchor"
      ],
      "pane": "",
      "popup": null,
      "popup_anchor": [
       0,
       0
      ],
      "popup_max_height": null,
      "popup_max_width": 300,
      "popup_min_width": 50,
      "subitems": []
     }
    },
    "f2142a29f2cd490ca6caba9b889f3522": {
     "model_module": "jupyter-leaflet",
     "model_module_version": "^0.19",
     "model_name": "LeafletZoomControlModel",
     "state": {
      "_model_module": "jupyter-leaflet",
      "_model_module_version": "^0.19",
      "_model_name": "LeafletZoomControlModel",
      "_view_count": null,
      "_view_module": "jupyter-leaflet",
      "_view_module_version": "^0.19",
      "_view_name": "LeafletZoomControlView",
      "options": [
       "position",
       "zoom_in_text",
       "zoom_in_title",
       "zoom_out_text",
       "zoom_out_title"
      ],
      "position": "topleft",
      "zoom_in_text": "+",
      "zoom_in_title": "Zoom in",
      "zoom_out_text": "-",
      "zoom_out_title": "Zoom out"
     }
    },
    "f3c91fd887bf40e6bf2511192d4c1fb9": {
     "model_module": "@jupyter-widgets/base",
     "model_module_version": "1.2.0",
     "model_name": "LayoutModel",
     "state": {
      "_model_module": "@jupyter-widgets/base",
      "_model_module_version": "1.2.0",
      "_model_name": "LayoutModel",
      "_view_count": null,
      "_view_module": "@jupyter-widgets/base",
      "_view_module_version": "1.2.0",
      "_view_name": "LayoutView",
      "align_content": null,
      "align_items": null,
      "align_self": null,
      "border": null,
      "bottom": null,
      "display": null,
      "flex": null,
      "flex_flow": null,
      "grid_area": null,
      "grid_auto_columns": null,
      "grid_auto_flow": null,
      "grid_auto_rows": null,
      "grid_column": null,
      "grid_gap": null,
      "grid_row": null,
      "grid_template_areas": null,
      "grid_template_columns": null,
      "grid_template_rows": null,
      "height": null,
      "justify_content": null,
      "justify_items": null,
      "left": null,
      "margin": null,
      "max_height": null,
      "max_width": null,
      "min_height": null,
      "min_width": null,
      "object_fit": null,
      "object_position": null,
      "order": null,
      "overflow": null,
      "overflow_x": null,
      "overflow_y": null,
      "padding": null,
      "right": null,
      "top": null,
      "visibility": null,
      "width": null
     }
    },
    "f4e10679e0a34a1da94b17d10d8f95a7": {
     "model_module": "jupyter-leaflet",
     "model_module_version": "^0.19",
     "model_name": "LeafletScaleControlModel",
     "state": {
      "_model_module": "jupyter-leaflet",
      "_model_module_version": "^0.19",
      "_model_name": "LeafletScaleControlModel",
      "_view_count": null,
      "_view_module": "jupyter-leaflet",
      "_view_module_version": "^0.19",
      "_view_name": "LeafletScaleControlView",
      "imperial": true,
      "max_width": 100,
      "metric": true,
      "options": [
       "imperial",
       "max_width",
       "metric",
       "position",
       "update_when_idle"
      ],
      "position": "bottomleft",
      "update_when_idle": false
     }
    },
    "f8e1c926fd944d32a68a1165163596f9": {
     "model_module": "@jupyter-widgets/base",
     "model_module_version": "1.2.0",
     "model_name": "LayoutModel",
     "state": {
      "_model_module": "@jupyter-widgets/base",
      "_model_module_version": "1.2.0",
      "_model_name": "LayoutModel",
      "_view_count": null,
      "_view_module": "@jupyter-widgets/base",
      "_view_module_version": "1.2.0",
      "_view_name": "LayoutView",
      "align_content": null,
      "align_items": null,
      "align_self": null,
      "border": null,
      "bottom": null,
      "display": null,
      "flex": null,
      "flex_flow": null,
      "grid_area": null,
      "grid_auto_columns": null,
      "grid_auto_flow": null,
      "grid_auto_rows": null,
      "grid_column": null,
      "grid_gap": null,
      "grid_row": null,
      "grid_template_areas": null,
      "grid_template_columns": null,
      "grid_template_rows": null,
      "height": null,
      "justify_content": null,
      "justify_items": null,
      "left": null,
      "margin": null,
      "max_height": null,
      "max_width": null,
      "min_height": null,
      "min_width": null,
      "object_fit": null,
      "object_position": null,
      "order": null,
      "overflow": null,
      "overflow_x": null,
      "overflow_y": null,
      "padding": null,
      "right": null,
      "top": null,
      "visibility": null,
      "width": null
     }
    },
    "f95d4a15879e4e04a7ffe7211ee40322": {
     "model_module": "jupyter-leaflet",
     "model_module_version": "^0.19",
     "model_name": "LeafletLayerGroupModel",
     "state": {
      "_model_module": "jupyter-leaflet",
      "_model_module_version": "^0.19",
      "_model_name": "LeafletLayerGroupModel",
      "_view_count": null,
      "_view_module": "jupyter-leaflet",
      "_view_module_version": "^0.19",
      "_view_name": "LeafletLayerGroupView",
      "base": false,
      "bottom": false,
      "layers": [
       "IPY_MODEL_2e4b455b6e7b4e9a99afa4d29d64b5b0"
      ],
      "name": "Labels",
      "options": [],
      "pane": "",
      "popup": null,
      "popup_max_height": null,
      "popup_max_width": 300,
      "popup_min_width": 50,
      "subitems": []
     }
    },
    "faeba0f9208e466c9aeb27be94332d59": {
     "model_module": "@jupyter-widgets/base",
     "model_module_version": "1.2.0",
     "model_name": "LayoutModel",
     "state": {
      "_model_module": "@jupyter-widgets/base",
      "_model_module_version": "1.2.0",
      "_model_name": "LayoutModel",
      "_view_count": null,
      "_view_module": "@jupyter-widgets/base",
      "_view_module_version": "1.2.0",
      "_view_name": "LayoutView",
      "align_content": null,
      "align_items": null,
      "align_self": null,
      "border": null,
      "bottom": null,
      "display": null,
      "flex": null,
      "flex_flow": null,
      "grid_area": null,
      "grid_auto_columns": null,
      "grid_auto_flow": null,
      "grid_auto_rows": null,
      "grid_column": null,
      "grid_gap": null,
      "grid_row": null,
      "grid_template_areas": null,
      "grid_template_columns": null,
      "grid_template_rows": null,
      "height": "28px",
      "justify_content": null,
      "justify_items": null,
      "left": null,
      "margin": null,
      "max_height": null,
      "max_width": null,
      "min_height": null,
      "min_width": null,
      "object_fit": null,
      "object_position": null,
      "order": null,
      "overflow": null,
      "overflow_x": null,
      "overflow_y": null,
      "padding": "0px 0px 0px 4px",
      "right": null,
      "top": null,
      "visibility": null,
      "width": "28px"
     }
    },
    "fb6a249bb1d34d7cb99797f13f0a56dd": {
     "model_module": "jupyter-leaflet",
     "model_module_version": "^0.19",
     "model_name": "LeafletMapStyleModel",
     "state": {
      "_model_module": "jupyter-leaflet",
      "_model_module_version": "^0.19",
      "_model_name": "LeafletMapStyleModel",
      "_view_count": null,
      "_view_module": "@jupyter-widgets/base",
      "_view_module_version": "1.2.0",
      "_view_name": "StyleView",
      "cursor": "grab"
     }
    }
   }
  }
 },
 "nbformat": 4,
 "nbformat_minor": 0
}
